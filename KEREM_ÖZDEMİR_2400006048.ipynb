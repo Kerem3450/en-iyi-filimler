{
  "nbformat": 4,
  "nbformat_minor": 0,
  "metadata": {
    "colab": {
      "provenance": [],
      "mount_file_id": "1FVnsZcMFfqTZhdN-dLmJ47x8UbHVaDi8",
      "authorship_tag": "ABX9TyOxOOmua6z/P0aSLefxvEiN",
      "include_colab_link": true
    },
    "kernelspec": {
      "name": "python3",
      "display_name": "Python 3"
    },
    "language_info": {
      "name": "python"
    }
  },
  "cells": [
    {
      "cell_type": "markdown",
      "metadata": {
        "id": "view-in-github",
        "colab_type": "text"
      },
      "source": [
        "<a href=\"https://colab.research.google.com/github/Kerem3450/en-iyi-filimler/blob/main/KEREM_%C3%96ZDEM%C4%B0R_2400006048.ipynb\" target=\"_parent\"><img src=\"https://colab.research.google.com/assets/colab-badge.svg\" alt=\"Open In Colab\"/></a>"
      ]
    },
    {
      "cell_type": "markdown",
      "source": [
        "https://colab.research.google.com/drive/1FVnsZcMFfqTZhdN-dLmJ47x8UbHVaDi8?usp=sharing"
      ],
      "metadata": {
        "id": "Q4MRUP7h0dnJ"
      }
    },
    {
      "cell_type": "markdown",
      "source": [
        "Problem 1\n"
      ],
      "metadata": {
        "id": "e1Ls7JXjPl6-"
      }
    },
    {
      "cell_type": "code",
      "source": [
        "# Kullanıcıdan 3 sayı alın\n",
        "sayi1 = 50\n",
        "sayi2 = 40\n",
        "sayi3 = 10\n",
        "\n",
        "# Çarpımı hesapla\n",
        "carpim = sayi1 * sayi2 * sayi3\n",
        "\n",
        "# Çarpımın karesini hesapla\n",
        "carpim_karesi = carpim ** 2\n",
        "\n",
        "# Sonucu ekrana yazdır\n",
        "print(\"Çarpımın karesi: {}\".format(carpim_karesi))\n"
      ],
      "metadata": {
        "colab": {
          "base_uri": "https://localhost:8080/"
        },
        "id": "7q5kS8SfPoe-",
        "outputId": "e4cec708-4255-4e5f-ed99-dba09a26d564"
      },
      "execution_count": null,
      "outputs": [
        {
          "output_type": "stream",
          "name": "stdout",
          "text": [
            "Çarpımın karesi: 400000000\n"
          ]
        }
      ]
    },
    {
      "cell_type": "markdown",
      "source": [
        "Problem 2\n"
      ],
      "metadata": {
        "id": "hqYggiP3PsM-"
      }
    },
    {
      "cell_type": "code",
      "source": [
        "# Kullanıcıdan boy ve kilo bilgilerini al\n",
        "boy = 1.94  # metre cinsinden boy\n",
        "kilo = 130  # kilogram cinsinden kilo\n",
        "\n",
        "# Beden Kitle İndeksi (BMI) hesaplama\n",
        "bmi = kilo / (boy ** 2)\n",
        "\n",
        "# BMI değerini ekrana yazdır\n",
        "print(f\"Beden Kitle İndeksiniz (BMI): {bmi:.2f}\")\n",
        "\n",
        "# BMI değerine göre dilim belirleme\n",
        "if bmi < 18.5:\n",
        "    print(\"Zayıf\")\n",
        "elif 18.5 <= bmi < 24.9:\n",
        "    print(\"Normal kilolu\")\n",
        "elif 25 <= bmi < 29.9:\n",
        "    print(\"Fazla kilolu\")\n",
        "elif 30 <= bmi < 34.9:\n",
        "    print(\"Obez (1. sınıf)\")\n",
        "elif 35 <= bmi < 39.9:\n",
        "    print(\"Obez (2. sınıf)\")\n",
        "else:\n",
        "    print(\"Aşırı obez (3. sınıf)\")\n"
      ],
      "metadata": {
        "colab": {
          "base_uri": "https://localhost:8080/"
        },
        "id": "8FpAkj_NPvAm",
        "outputId": "02ff0c31-9997-47d6-88ab-fc6c0e95d0e3"
      },
      "execution_count": null,
      "outputs": [
        {
          "output_type": "stream",
          "name": "stdout",
          "text": [
            "Beden Kitle İndeksiniz (BMI): 34.54\n",
            "Obez (1. sınıf)\n"
          ]
        }
      ]
    },
    {
      "cell_type": "markdown",
      "source": [
        "Problem 3"
      ],
      "metadata": {
        "id": "k-sYE8UDTFxY"
      }
    },
    {
      "cell_type": "code",
      "source": [
        "yakıt_tüketimi = float(input(\"Aracın 100 km'de yaktığı yakıt miktarı (litre): \"))\n",
        "yol = float(input(\"Gidilecek toplam mesafe (km): \"))\n",
        "benzin_fiyatı = 45.0  # Benzin litre fiyatı sabit olarak belirlendi (TL)\n",
        "\n",
        "# Gerekli hesaplamalar\n",
        "toplam_yakıt = (yol / 100) * yakıt_tüketimi  # Toplam yakıt miktarı (litre)\n",
        "toplam_maliyet = toplam_yakıt * benzin_fiyatı  # Toplam yakıt maliyeti (TL)\n",
        "\n",
        "# Sonuç\n",
        "print(f\"Toplam {yol} km yol için {toplam_yakıt:.2f} litre yakıt tüketilecek ve maliyet {toplam_maliyet:.2f} TL olacak.\")\n"
      ],
      "metadata": {
        "colab": {
          "base_uri": "https://localhost:8080/"
        },
        "id": "MUU2t-fOViFY",
        "outputId": "f41ff7c8-40c6-4cc3-e433-e1ad9a595f95"
      },
      "execution_count": null,
      "outputs": [
        {
          "output_type": "stream",
          "name": "stdout",
          "text": [
            "Aracın 100 km'de yaktığı yakıt miktarı (litre): 6\n",
            "Gidilecek toplam mesafe (km): 300\n",
            "Toplam 300.0 km yol için 18.00 litre yakıt tüketilecek ve maliyet 810.00 TL olacak.\n"
          ]
        }
      ]
    },
    {
      "cell_type": "markdown",
      "source": [
        "Problem 4\n",
        "\n"
      ],
      "metadata": {
        "id": "Ce8lfeMeVucA"
      }
    },
    {
      "cell_type": "code",
      "source": [
        "# Kullanıcıdan bilgileri al\n",
        "ad = input(\"Adınız: \")\n",
        "soyad = input(\"Soyadınız: \")\n",
        "numara = input(\"Numaranız: \")\n",
        "\n",
        "# Bilgileri ekrana alt alta yazdır\n",
        "print(\"Ad:\", ad)\n",
        "print(\"Soyad:\", soyad)\n",
        "print(\"Numara:\", numara)\n"
      ],
      "metadata": {
        "colab": {
          "base_uri": "https://localhost:8080/"
        },
        "id": "9aU0kjb_VxL4",
        "outputId": "67ea7f2c-71f0-443b-e825-1709b7078df0"
      },
      "execution_count": null,
      "outputs": [
        {
          "output_type": "stream",
          "name": "stdout",
          "text": [
            "Adınız: Kerem\n",
            "Soyadınız: Özdemir\n",
            "Numaranız: 6048\n",
            "Ad: Kerem\n",
            "Soyad: Özdemir\n",
            "Numara: 6048\n"
          ]
        }
      ]
    },
    {
      "cell_type": "markdown",
      "source": [
        "Problem 5\n"
      ],
      "metadata": {
        "id": "e5QfqtfAX5Lp"
      }
    },
    {
      "cell_type": "code",
      "source": [
        "# Kullanıcıdan iki sayı al\n",
        "sayi1 = input(\"Birinci sayıyı girin: \")\n",
        "sayi2 = input(\"İkinci sayıyı girin: \")\n",
        "\n",
        "# Sayıların değerlerini birbirleriyle değiştir\n",
        "sayi1, sayi2 = sayi2, sayi1\n",
        "\n",
        "# Değiştirilen değerleri ekrana yazdır\n",
        "print(\"Birinci sayı (değiştirildi):\", sayi1)\n",
        "print(\"İkinci sayı (değiştirildi):\", sayi2)\n"
      ],
      "metadata": {
        "colab": {
          "base_uri": "https://localhost:8080/"
        },
        "id": "P2_9zkY4X6pJ",
        "outputId": "84e7af2f-d125-41dc-d8f6-23267b61ebe2"
      },
      "execution_count": null,
      "outputs": [
        {
          "output_type": "stream",
          "name": "stdout",
          "text": [
            "Birinci sayıyı girin: 50\n",
            "İkinci sayıyı girin: 60\n",
            "Birinci sayı (değiştirildi): 60\n",
            "İkinci sayı (değiştirildi): 50\n"
          ]
        }
      ]
    },
    {
      "cell_type": "markdown",
      "source": [
        "Problem 6\n"
      ],
      "metadata": {
        "id": "r47hNVy6YHWB"
      }
    },
    {
      "cell_type": "code",
      "source": [
        "import math\n",
        "\n",
        "# Kullanıcıdan dik kenar uzunluklarını alalım\n",
        "a = float(input(\"Dik kenar a uzunluğunu girin: \"))\n",
        "b = float(input(\"Dik kenar b uzunluğunu girin: \"))\n",
        "\n",
        "# Hipotenüs uzunluğunu hesaplayalım\n",
        "c = math.sqrt(a**2 + b**2)\n",
        "\n",
        "# Alanı hesaplayalım\n",
        "alan = (a * b) / 2\n",
        "\n",
        "# Sonuçları ekrana yazdıralım\n",
        "print(f\"Hipotenüs uzunluğu: {c}\")\n",
        "print(f\"Üçgenin alanı: {alan}\")\n"
      ],
      "metadata": {
        "colab": {
          "base_uri": "https://localhost:8080/"
        },
        "id": "P2Vb13NnYIoZ",
        "outputId": "3ed5515d-0366-4aad-a973-060612094be0"
      },
      "execution_count": null,
      "outputs": [
        {
          "output_type": "stream",
          "name": "stdout",
          "text": [
            "Dik kenar a uzunluğunu girin: 10\n",
            "Dik kenar b uzunluğunu girin: 15\n",
            "Hipotenüs uzunluğu: 18.027756377319946\n",
            "Üçgenin alanı: 75.0\n"
          ]
        }
      ]
    },
    {
      "cell_type": "code",
      "source": [],
      "metadata": {
        "id": "bjavULqQaYCK"
      },
      "execution_count": null,
      "outputs": []
    }
  ]
}